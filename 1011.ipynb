{
 "cells": [
  {
   "cell_type": "markdown",
   "metadata": {},
   "source": [
    "2017.10.11\n",
    "\n",
    "# AI can predict whether your relationship will last based on how you speak to your partner\n",
    "https://theconversation.com/ai-can-predict-whether-your-relationship-will-last-based-on-how-you-speak-to-your-partner-81420\n",
    "\n",
    "The way you speak includes the tone of voice and conversation patterns. It can tell something about your relationship. The training data are extracted from standard speech analysis features from recordings of therapy session participants (134 couples undergoing therapy). The features are pitch, variation in pitch and intonation – all relate to voice aspects like tone and intensity. A machine-learning algorithm was then trained to learn a relationship between those vocal features and the eventual outcome of therapy.   \n",
    "It seems that this kind of prediction to some extent is reasonable, given that we always judge what foreigners say by their way of speaking. And surprisingly, ignoring what was being said and considering only these patterns of speaking was sufficient to predict and the prediction is really similar to what psychologists do. It is interesting that sometimes even when we try to speak nively and use polite words, the tones of our voice will betry us. It is something hard to hide. I wonder other than dealing with relationship problems, if it would be more useful in other general cases. Also, there are surly other features to catch that will leak our underlying feelings. However, people will not all believe what computers read from them, and will even probably deny it. Since it is already so hard to read other people and even ourselves, how computers will perform is doubtful because they first learn from how we read. Nonetheless, this topic is still interesting to discuss and develop in the future.\n",
    "\n",
    "## Code\n",
    "use the voice features and the outcome of the therapy as training set   \n",
    "train the algorithm using classification (given several specified therapy outcomes)   \n",
    "test the algorithm with new couples in therapy and adjust the weight of each feature based on the accuracy"
   ]
  }
 ],
 "metadata": {
  "kernelspec": {
   "display_name": "Python 2",
   "language": "python",
   "name": "python2"
  },
  "language_info": {
   "codemirror_mode": {
    "name": "ipython",
    "version": 2
   },
   "file_extension": ".py",
   "mimetype": "text/x-python",
   "name": "python",
   "nbconvert_exporter": "python",
   "pygments_lexer": "ipython2",
   "version": "2.7.13"
  }
 },
 "nbformat": 4,
 "nbformat_minor": 2
}
