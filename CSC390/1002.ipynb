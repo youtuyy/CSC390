{
 "cells": [
  {
   "cell_type": "markdown",
   "metadata": {},
   "source": [
    "2017.10.2\n",
    "# Researchers use Wikipedia to give AI context clues\n",
    "https://news.byu.edu/news/researchers-use-wikipedia-give-ai-context-clues\n",
    "\n",
    "A new concept is learned: affordances — the set of actions that can be done with an object.\n",
    "The goal of these researchers is to equip computers with common-sense knowledge about things that make sense so that the computers can have some kind of intuition like humans to pair sepecific verbs with nouns. It reminds me of the same thing when we try to learn a foreign language. Usually the noun-verb pairs in different languades are not completely same. Thus we need to read a lot about these pairs, memorize them and practice using them a lot to actually master these expressions. It could be the same that the computer does.\n",
    "\n",
    "\"Because the hand-coding needed to help an agent understand which verbs make sense with which nouns would be a laborious, slow-moving process, BYU’s research team instead found a way to put linear algebra and Wikipedia to use. Understanding that Wikipedia offers a vast corpus of mostly up-to-date language use, they downloaded it, ran it through a previously established algorithm that looks at words in their contexts.\"\n",
    "    -- This implies the code used. I wonder how linear algebra works here.\n"
   ]
  },
  {
   "cell_type": "markdown",
   "metadata": {},
   "source": [
    "## Code\n",
    "\n",
    "Get the dictionary of all the words.    \n",
    "Run search of each word in Wikipedia and get all the possible contexts in another dictionary.    \n",
    "(?)Use linear algebra to learn from the dictionary and whenever looking for a word search for the similar context."
   ]
  }
 ],
 "metadata": {
  "kernelspec": {
   "display_name": "Python 2",
   "language": "python",
   "name": "python2"
  },
  "language_info": {
   "codemirror_mode": {
    "name": "ipython",
    "version": 2
   },
   "file_extension": ".py",
   "mimetype": "text/x-python",
   "name": "python",
   "nbconvert_exporter": "python",
   "pygments_lexer": "ipython2",
   "version": "2.7.13"
  }
 },
 "nbformat": 4,
 "nbformat_minor": 2
}
