{
 "cells": [
  {
   "cell_type": "markdown",
   "metadata": {},
   "source": [
    "2017.09.13\n",
    "\n",
    "New app could transform music teaching in schools\n",
    "http://www.sussex.ac.uk/mfm/internal/newsandevents?id=41418\n",
    "\n",
    "This app might only be useful to children, since that in an adults' orchestra, the musicians should not only focus on their own notes. However, it could be really helpful for the musics teachers in primary schools. It avoids the children of being distracted. It would be of great benefit to music beginners.\n",
    "On the technical level, breaking down a piece of music would be similar to a math problem, given that the rule in music work is observable. I wonder if this method can be improved and used to analysis more music pieces in the research and the education of music."
   ]
  }
 ],
 "metadata": {
  "kernelspec": {
   "display_name": "Python 2",
   "language": "python",
   "name": "python2"
  },
  "language_info": {
   "codemirror_mode": {
    "name": "ipython",
    "version": 2
   },
   "file_extension": ".py",
   "mimetype": "text/x-python",
   "name": "python",
   "nbconvert_exporter": "python",
   "pygments_lexer": "ipython2",
   "version": "2.7.13"
  }
 },
 "nbformat": 4,
 "nbformat_minor": 2
}
