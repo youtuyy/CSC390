{
 "cells": [
  {
   "cell_type": "markdown",
   "metadata": {},
   "source": [
    "2017.10.23\n",
    "\n",
    "# The Seven Deadly Sins of Predicting the Future of AI\n",
    "\n",
    "https://rodneybrooks.com/the-seven-deadly-sins-of-predicting-the-future-of-ai/\n",
    "\n",
    "It's definitely a good article for both cs majors and non-majors to read. It is also especially insightful for people who know nothing about AI. For me, I learn a picture about what level is the current AI at. I learn about the things that AI can do and can not do at this time. It is suprising to know that there are certian things that today's technology of AI still needs much to work on. For example, it can not understand code itself. The doubt on the misaligned AI and even evil/ destroying AI has since long existed. It is as hard to prove it true as to proce it false. Sometimes we just need to believe that we are smart enough.\n",
    "   \n",
    "The conclusion on how the technology is developed is really precise:    \n",
    "Amara’s law:\n",
    "We tend to overestimate the effect of a technology in the short run and underestimate the effect in the long run.   \n",
    "“A big promise up front, disappointment, and then slowly growing confidence, beyond where the original expectations were aimed.” \n",
    "   \n",
    "It is hard to predict anything, needless to say the future of AI. I'm also happy to know that there are still much in the field to research on. That is why we are studying all these things."
   ]
  },
  {
   "cell_type": "code",
   "execution_count": null,
   "metadata": {
    "collapsed": true
   },
   "outputs": [],
   "source": []
  }
 ],
 "metadata": {
  "kernelspec": {
   "display_name": "Python 2",
   "language": "python",
   "name": "python2"
  },
  "language_info": {
   "codemirror_mode": {
    "name": "ipython",
    "version": 2
   },
   "file_extension": ".py",
   "mimetype": "text/x-python",
   "name": "python",
   "nbconvert_exporter": "python",
   "pygments_lexer": "ipython2",
   "version": "2.7.13"
  }
 },
 "nbformat": 4,
 "nbformat_minor": 2
}
