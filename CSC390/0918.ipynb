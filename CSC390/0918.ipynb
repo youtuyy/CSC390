{
 "cells": [
  {
   "cell_type": "markdown",
   "metadata": {},
   "source": [
    "2017.09.18\n",
    "\n",
    "# Can robots write meaningful news?\n",
    "http://ju.se/en/research/news/news-archive/2017-03-27-can-robots-write-meaningful-news.html\n",
    "\n",
    "It is hard to define the meaningfulness of news given that different categories of news vary from each other greatly. It is true that some kind of news is indeed repetitive, like reports after a football game. We can imagine the robot gather all the infomation about the game, like the score and the player who scored, and provide it to the reader. However, as stated in the article, \"Journalism, at its heart, is a very human enterprise.\" We would doubt if news wrote by robots will appeal to readers. How to measure if a piece of news if meaningful to this specific person? How to personalize it could be the largest problem.\n",
    "\n",
    "### Code\n",
    "learn the pattern of the reading habits of a user by mining through the source, time, category of reading\n",
    "read every news report and identify the category of it\n",
    "determine whether it meets the learned pattern by comparing it with the selected features\n",
    "provide the news to the user and record the level of interest to improve the learned pattern"
   ]
  }
 ],
 "metadata": {
  "kernelspec": {
   "display_name": "Python 2",
   "language": "python",
   "name": "python2"
  },
  "language_info": {
   "codemirror_mode": {
    "name": "ipython",
    "version": 2
   },
   "file_extension": ".py",
   "mimetype": "text/x-python",
   "name": "python",
   "nbconvert_exporter": "python",
   "pygments_lexer": "ipython2",
   "version": "2.7.13"
  }
 },
 "nbformat": 4,
 "nbformat_minor": 2
}
