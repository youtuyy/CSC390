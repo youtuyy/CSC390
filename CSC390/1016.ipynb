{
 "cells": [
  {
   "cell_type": "markdown",
   "metadata": {},
   "source": [
    "2017.10.16\n",
    "\n",
    "# 'After, I feel ecstatic and emotional': could virtual reality replace therapy?\n",
    "https://www.theguardian.com/technology/2017/oct/07/virtual-reality-acrophobia-paranoia-fear-of-flying-ptsd-depression-mental-health\n",
    "\n",
    "VR helps the therapy by creating the situation where the patient can try to conquer what he couldn't in real life. It can substitute the traditional theray that the psychologists use their words to create the \"virtual reality\". It seems logic that the 3D VR we use today will be more likely to be closer to the reality, thus it will provide more efficient therapy effort. It seems that whatever you fear for, once you hace overcome the fear in VR, you will be able to apply the same to reality. There is more to research on related to the field of neural science and film making. On one side, we should figure out how our brain works and thus we know how to make our brain believe in the virtual reality. On the other side, we should learn more about how to create VR that can cheat our brain. It is definitely a field of potetial and combination of various sebjects. Professionals in almost all aspects can work together on it. "
   ]
  }
 ],
 "metadata": {
  "kernelspec": {
   "display_name": "Python 2",
   "language": "python",
   "name": "python2"
  },
  "language_info": {
   "codemirror_mode": {
    "name": "ipython",
    "version": 2
   },
   "file_extension": ".py",
   "mimetype": "text/x-python",
   "name": "python",
   "nbconvert_exporter": "python",
   "pygments_lexer": "ipython2",
   "version": "2.7.13"
  }
 },
 "nbformat": 4,
 "nbformat_minor": 2
}
