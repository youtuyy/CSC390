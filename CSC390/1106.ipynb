{
 "cells": [
  {
   "cell_type": "markdown",
   "metadata": {},
   "source": [
    "# There Are Three Kinds of Consciousness, And Computers Have Mastered One, Says Study  \n",
    "https://www.sciencealert.com/artificial-intelligence-three-types-of-consciousness  \n",
    "Please be prepared with one an argument as to why you believe it's possible for computers to master the others and one why it's not.  \n",
    "\n",
    "What is consciousness?  \n",
    "Consciousness is the thoughts and sensations we all experience personally.\n",
    "\n",
    "The three categories of consciouness are:  \n",
    "C0, equating it with the problem solving our brains do without our awareness\n",
    "C1, the relationship between a cognitive system and a specific object of thought\n",
    "C2, knowing what we know\n",
    "\n",
    "Possible: it can be achieved by simulating human mental hardwares\n",
    "Impossible: the mental software can not be learnt, it is impossible for a computer to know what it knows"
   ]
  }
 ],
 "metadata": {
  "kernelspec": {
   "display_name": "Python 2",
   "language": "python",
   "name": "python2"
  },
  "language_info": {
   "codemirror_mode": {
    "name": "ipython",
    "version": 2
   },
   "file_extension": ".py",
   "mimetype": "text/x-python",
   "name": "python",
   "nbconvert_exporter": "python",
   "pygments_lexer": "ipython2",
   "version": "2.7.13"
  }
 },
 "nbformat": 4,
 "nbformat_minor": 2
}
